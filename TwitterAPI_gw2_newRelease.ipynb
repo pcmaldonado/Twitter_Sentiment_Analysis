{
 "cells": [
  {
   "cell_type": "markdown",
   "id": "3b613af8",
   "metadata": {},
   "source": [
    "# Import libraries"
   ]
  },
  {
   "cell_type": "code",
   "execution_count": 1,
   "id": "07f175ad",
   "metadata": {},
   "outputs": [],
   "source": [
    "# Basic libraries to handle data\n",
    "import pandas as pd\n",
    "\n",
    "# To connect with the Twitter API\n",
    "import tweepy\n",
    "\n",
    "# To save/load list of tweets\n",
    "import pickle"
   ]
  },
  {
   "cell_type": "markdown",
   "id": "bb95a2a0",
   "metadata": {},
   "source": [
    "## Keys"
   ]
  },
  {
   "cell_type": "code",
   "execution_count": 2,
   "id": "76498071",
   "metadata": {},
   "outputs": [],
   "source": [
    "# Loading file with keys/tokens\n",
    "log = pd.read_csv('login.csv', header = 1 )"
   ]
  },
  {
   "cell_type": "markdown",
   "id": "ec25d6aa",
   "metadata": {},
   "source": [
    "# Getting the tweets"
   ]
  },
  {
   "cell_type": "code",
   "execution_count": 3,
   "id": "ad56e07e",
   "metadata": {},
   "outputs": [],
   "source": [
    "tweets_list = []"
   ]
  },
  {
   "cell_type": "code",
   "execution_count": 4,
   "id": "a544fcff",
   "metadata": {},
   "outputs": [],
   "source": [
    "# Unpickling previously collected data\n",
    "# with open(\"tweets_list\", \"rb\") as fp:   \n",
    "#     tweets_list = pickle.load(fp)"
   ]
  },
  {
   "cell_type": "code",
   "execution_count": 5,
   "id": "d7fa677a",
   "metadata": {
    "scrolled": true
   },
   "outputs": [],
   "source": [
    "client = tweepy.Client(bearer_token=log.access_token[0])\n",
    "\n",
    "query = '#GW2EOD'\n",
    "tweet_fields = ['lang']\n",
    "\n",
    "for tweet in tweepy.Paginator(client.search_recent_tweets, \n",
    "                              query=query,\n",
    "                              tweet_fields = tweet_fields, \n",
    "                              max_results=100).flatten(limit=5000):\n",
    "    if tweet not in tweets_list:\n",
    "        tweets_list.append(tweet)  "
   ]
  },
  {
   "cell_type": "code",
   "execution_count": 6,
   "id": "844a6e09",
   "metadata": {},
   "outputs": [
    {
     "data": {
      "text/plain": [
       "3681"
      ]
     },
     "execution_count": 6,
     "metadata": {},
     "output_type": "execute_result"
    }
   ],
   "source": [
    "len(tweets_list)"
   ]
  },
  {
   "cell_type": "code",
   "execution_count": 7,
   "id": "ae45808b",
   "metadata": {},
   "outputs": [],
   "source": [
    "# Saving data as pickle object to add more data in the future\n",
    "with open(\"tweets_list\", \"wb\") as fp:\n",
    "    pickle.dump(tweets_list, fp)"
   ]
  },
  {
   "cell_type": "markdown",
   "id": "da3b2386",
   "metadata": {},
   "source": [
    "# Preparing data to export"
   ]
  },
  {
   "cell_type": "code",
   "execution_count": 8,
   "id": "98e14ab3",
   "metadata": {},
   "outputs": [
    {
     "name": "stdout",
     "output_type": "stream",
     "text": [
      "(1074, 1)\n"
     ]
    },
    {
     "data": {
      "text/html": [
       "<div>\n",
       "<style scoped>\n",
       "    .dataframe tbody tr th:only-of-type {\n",
       "        vertical-align: middle;\n",
       "    }\n",
       "\n",
       "    .dataframe tbody tr th {\n",
       "        vertical-align: top;\n",
       "    }\n",
       "\n",
       "    .dataframe thead th {\n",
       "        text-align: right;\n",
       "    }\n",
       "</style>\n",
       "<table border=\"1\" class=\"dataframe\">\n",
       "  <thead>\n",
       "    <tr style=\"text-align: right;\">\n",
       "      <th></th>\n",
       "      <th>text</th>\n",
       "    </tr>\n",
       "  </thead>\n",
       "  <tbody>\n",
       "    <tr>\n",
       "      <th>1</th>\n",
       "      <td>RT @CrucialMemory: Want to score a new SSD and...</td>\n",
       "    </tr>\n",
       "    <tr>\n",
       "      <th>14</th>\n",
       "      <td>Doing some #GW2EOD Meta Events before some Str...</td>\n",
       "    </tr>\n",
       "    <tr>\n",
       "      <th>17</th>\n",
       "      <td>That's the thing with the Claw fight. You aren...</td>\n",
       "    </tr>\n",
       "    <tr>\n",
       "      <th>19</th>\n",
       "      <td>RT @KoboldArt: Nothing but fishing! 🐟🎣\\n#GW2EO...</td>\n",
       "    </tr>\n",
       "    <tr>\n",
       "      <th>20</th>\n",
       "      <td>Here's one of Jormag's kids. They're so scared...</td>\n",
       "    </tr>\n",
       "  </tbody>\n",
       "</table>\n",
       "</div>"
      ],
      "text/plain": [
       "                                                 text\n",
       "1   RT @CrucialMemory: Want to score a new SSD and...\n",
       "14  Doing some #GW2EOD Meta Events before some Str...\n",
       "17  That's the thing with the Claw fight. You aren...\n",
       "19  RT @KoboldArt: Nothing but fishing! 🐟🎣\\n#GW2EO...\n",
       "20  Here's one of Jormag's kids. They're so scared..."
      ]
     },
     "execution_count": 8,
     "metadata": {},
     "output_type": "execute_result"
    }
   ],
   "source": [
    "# remove duplicates\n",
    "df = pd.DataFrame(tweets_list).drop_duplicates()\n",
    "\n",
    "# keep only tweets in english\n",
    "df = df[df.lang == 'en']\n",
    "df = df[['text']]\n",
    "\n",
    "# remove duplicated tweets from different IDs (retweets) \n",
    "df = df.drop_duplicates()\n",
    "\n",
    "# explore data\n",
    "print(df.shape)\n",
    "df.head()"
   ]
  },
  {
   "cell_type": "code",
   "execution_count": 9,
   "id": "4fe8404f",
   "metadata": {},
   "outputs": [],
   "source": [
    "# save data\n",
    "df.to_csv('gw2_newRelease.csv', index = False)"
   ]
  }
 ],
 "metadata": {
  "kernelspec": {
   "display_name": "Python 3 (ipykernel)",
   "language": "python",
   "name": "python3"
  },
  "language_info": {
   "codemirror_mode": {
    "name": "ipython",
    "version": 3
   },
   "file_extension": ".py",
   "mimetype": "text/x-python",
   "name": "python",
   "nbconvert_exporter": "python",
   "pygments_lexer": "ipython3",
   "version": "3.9.7"
  }
 },
 "nbformat": 4,
 "nbformat_minor": 5
}
